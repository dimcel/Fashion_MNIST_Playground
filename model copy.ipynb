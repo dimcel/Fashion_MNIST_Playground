{
 "cells": [
  {
   "cell_type": "markdown",
   "metadata": {},
   "source": [
    "---\n",
    "<h1 style=\"text-align:center;\"> Fashion MNIST</h1>\n",
    "\n",
    "---"
   ]
  },
  {
   "cell_type": "code",
   "execution_count": 1,
   "metadata": {},
   "outputs": [],
   "source": [
    "import pandas as pd\n",
    "import numpy as np\n",
    "import matplotlib.pyplot as plt\n",
    "import seaborn as sns\n",
    "import time\n",
    "import warnings\n",
    "\n",
    "\n",
    "from sklearn.model_selection import train_test_split, cross_val_score, RandomizedSearchCV, learning_curve, validation_curve\n",
    "from sklearn.decomposition import PCA\n",
    "\n",
    "from sklearn.tree import DecisionTreeClassifier\n",
    "from sklearn.linear_model import LogisticRegression\n",
    "from sklearn.svm import SVC\n",
    "from sklearn.ensemble import RandomForestClassifier\n",
    "from sklearn.naive_bayes import GaussianNB\n",
    "from xgboost import XGBClassifier\n",
    "\n",
    "from sklearn.metrics import accuracy_score, confusion_matrix, classification_report"
   ]
  },
  {
   "cell_type": "code",
   "execution_count": 2,
   "metadata": {},
   "outputs": [],
   "source": [
    "train_data = pd.read_csv('fashion-mnist_train.csv')\n",
    "test_data = pd.read_csv('fashion-mnist_test.csv')"
   ]
  },
  {
   "cell_type": "code",
   "execution_count": 3,
   "metadata": {},
   "outputs": [],
   "source": [
    "# split our data to X and y\n",
    "X_train = train_data.drop(\"label\", axis=1).values\n",
    "y_train = train_data[\"label\"].values\n",
    "X_test = test_data.drop(\"label\", axis=1).values\n",
    "y_test = test_data[\"label\"].values"
   ]
  },
  {
   "cell_type": "code",
   "execution_count": 4,
   "metadata": {},
   "outputs": [],
   "source": [
    "X_train = X_train.astype('float')\n",
    "X_test = X_test.astype('float')\n",
    "\n",
    "#normalising the data\n",
    "X_train /= 255 \n",
    "X_test /= 255"
   ]
  },
  {
   "cell_type": "markdown",
   "metadata": {},
   "source": [
    "---\n",
    "<h3 style=\"text-align:center;\"> Models</h3>\n",
    "\n",
    "---"
   ]
  },
  {
   "cell_type": "markdown",
   "metadata": {},
   "source": [
    "Check some models on normalized data"
   ]
  },
  {
   "cell_type": "code",
   "execution_count": 5,
   "metadata": {},
   "outputs": [],
   "source": [
    "X_train_train, X_train_val, y_train_train, y_train_val = train_test_split(X_train, y_train, test_size=0.2, stratify=y_train, random_state=9)"
   ]
  },
  {
   "cell_type": "code",
   "execution_count": 6,
   "metadata": {},
   "outputs": [],
   "source": [
    "# Suppress all warnings\n",
    "warnings.filterwarnings(\"ignore\")"
   ]
  },
  {
   "cell_type": "code",
   "execution_count": 6,
   "metadata": {},
   "outputs": [],
   "source": [
    "models = {\n",
    "    'Naive Bayes': GaussianNB(),\n",
    "    'Logistic Regression': LogisticRegression(),\n",
    "    'Decision Tree': DecisionTreeClassifier(),\n",
    "    'SVM': SVC(),\n",
    "    'Random Forest': RandomForestClassifier(),\n",
    "    'XGBoost': XGBClassifier()\n",
    "}\n"
   ]
  },
  {
   "cell_type": "code",
   "execution_count": 8,
   "metadata": {},
   "outputs": [],
   "source": [
    "def perform_cross_validation(model, X, y, n_folds=5):\n",
    "    try:\n",
    "        start_time = time.time()\n",
    "\n",
    "        cv_scores = cross_val_score(model, X, y, cv=n_folds)\n",
    "\n",
    "        end_time = time.time()\n",
    "\n",
    "        elapsed_time = end_time - start_time\n",
    "\n",
    "        print(\"Cross-Validation Scores:\", cv_scores)\n",
    "        print(\"Average CV Score:\", cv_scores.mean())\n",
    "        print(f\"Elapsed Time: {elapsed_time} seconds\")\n",
    "    except Exception as e:\n",
    "        print(f\"An error occurred while cross-validating {type(model).__name__}: {e}\")"
   ]
  },
  {
   "cell_type": "code",
   "execution_count": 10,
   "metadata": {},
   "outputs": [
    {
     "name": "stdout",
     "output_type": "stream",
     "text": [
      "=== Naive Bayes ===\n",
      "Cross-Validation Scores: [0.59783333 0.57675    0.60958333 0.59758333 0.58616667]\n",
      "Average CV Score: 0.5935833333333334\n",
      "Elapsed Time: 13.132946729660034 seconds\n",
      "================\n",
      "\n",
      "=== Logistic Regression ===\n",
      "Cross-Validation Scores: [0.85558333 0.85425    0.85825    0.85416667 0.85233333]\n",
      "Average CV Score: 0.8549166666666667\n",
      "Elapsed Time: 79.93741965293884 seconds\n",
      "================\n",
      "\n",
      "=== Decision Tree ===\n",
      "Cross-Validation Scores: [0.79241667 0.79233333 0.79333333 0.79616667 0.79233333]\n",
      "Average CV Score: 0.7933166666666667\n",
      "Elapsed Time: 349.01535987854004 seconds\n",
      "================\n",
      "\n",
      "=== SVM ===\n",
      "Cross-Validation Scores: [0.88775    0.88691667 0.8945     0.88491667 0.88441667]\n",
      "Average CV Score: 0.8876999999999999\n",
      "Elapsed Time: 2523.4591178894043 seconds\n",
      "================\n",
      "\n",
      "=== Random Forest ===\n",
      "Cross-Validation Scores: [0.87908333 0.8815     0.88275    0.87833333 0.88258333]\n",
      "Average CV Score: 0.88085\n",
      "Elapsed Time: 850.1695411205292 seconds\n",
      "================\n",
      "\n",
      "=== XGBoost ===\n",
      "Cross-Validation Scores: [0.90133333 0.9025     0.90425    0.90058333 0.89908333]\n",
      "Average CV Score: 0.9015500000000001\n",
      "Elapsed Time: 1263.2607119083405 seconds\n",
      "================\n",
      "\n"
     ]
    }
   ],
   "source": [
    "for model_name, model in models.items():\n",
    "    print(f\"=== {model_name} ===\")\n",
    "    perform_cross_validation(model, X_train, y_train, n_folds=5)\n",
    "    print(\"================\\n\")"
   ]
  },
  {
   "cell_type": "markdown",
   "metadata": {},
   "source": [
    "Check some models on redused data (pca)"
   ]
  },
  {
   "cell_type": "code",
   "execution_count": 7,
   "metadata": {},
   "outputs": [],
   "source": [
    "# start of pca\n",
    "pca = PCA()\n",
    "X_train_pca = pca.fit_transform(X_train)\n",
    "\n",
    "# keep 95% of the variance\n",
    "target_variance = 0.95\n",
    "num_components = next(i for i, cum_var in enumerate(pca.explained_variance_ratio_.cumsum()) if cum_var >= target_variance)\n",
    "\n",
    "# Apply PCA with the selected number of components\n",
    "pca = PCA(n_components=num_components)\n"
   ]
  },
  {
   "cell_type": "code",
   "execution_count": 8,
   "metadata": {},
   "outputs": [],
   "source": [
    "X_train_pca = pca.fit_transform(X_train)\n",
    "X_test_pca = pca.transform(X_test)"
   ]
  },
  {
   "cell_type": "code",
   "execution_count": 9,
   "metadata": {},
   "outputs": [
    {
     "data": {
      "text/plain": [
       "((60000, 186), (10000, 186))"
      ]
     },
     "execution_count": 9,
     "metadata": {},
     "output_type": "execute_result"
    }
   ],
   "source": [
    "X_train_pca.shape, X_test_pca.shape"
   ]
  },
  {
   "cell_type": "code",
   "execution_count": 14,
   "metadata": {},
   "outputs": [
    {
     "name": "stdout",
     "output_type": "stream",
     "text": [
      "=== Naive Bayes ===\n",
      "Cross-Validation Scores: [0.74666667 0.74641667 0.74808333 0.74391667 0.75008333]\n",
      "Average CV Score: 0.7470333333333333\n",
      "Elapsed Time: 1.8628146648406982 seconds\n",
      "================\n",
      "\n",
      "=== Logistic Regression ===\n",
      "Cross-Validation Scores: [0.85416667 0.85283333 0.85441667 0.85041667 0.85291667]\n",
      "Average CV Score: 0.8529500000000001\n",
      "Elapsed Time: 18.182113647460938 seconds\n",
      "================\n",
      "\n",
      "=== Decision Tree ===\n",
      "Cross-Validation Scores: [0.75733333 0.75683333 0.76108333 0.75791667 0.75725   ]\n",
      "Average CV Score: 0.7580833333333332\n",
      "Elapsed Time: 363.16396045684814 seconds\n",
      "================\n",
      "\n",
      "=== SVM ===\n",
      "Cross-Validation Scores: [0.89091667 0.89391667 0.89591667 0.88825    0.89133333]\n",
      "Average CV Score: 0.8920666666666666\n",
      "Elapsed Time: 975.1259844303131 seconds\n",
      "================\n",
      "\n",
      "=== Random Forest ===\n",
      "Cross-Validation Scores: [0.86408333 0.86333333 0.86891667 0.85883333 0.86166667]\n",
      "Average CV Score: 0.8633666666666666\n",
      "Elapsed Time: 1777.7181723117828 seconds\n",
      "================\n",
      "\n",
      "=== XGBoost ===\n",
      "Cross-Validation Scores: [0.88083333 0.88066667 0.88666667 0.87883333 0.88058333]\n",
      "Average CV Score: 0.8815166666666666\n",
      "Elapsed Time: 186.21637678146362 seconds\n",
      "================\n",
      "\n"
     ]
    }
   ],
   "source": [
    "for model_name, model in models.items():\n",
    "    print(f\"=== {model_name} ===\")\n",
    "    perform_cross_validation(model, X_train_pca, y_train, n_folds=5)\n",
    "    print(\"================\\n\")"
   ]
  },
  {
   "cell_type": "markdown",
   "metadata": {},
   "source": [
    "##### Random forest (fast route) on normal data"
   ]
  },
  {
   "cell_type": "code",
   "execution_count": 22,
   "metadata": {},
   "outputs": [],
   "source": [
    "rf_params = {\n",
    "    'n_estimators': [50, 100, 200],\n",
    "    'criterion': ['gini', 'entropy'],\n",
    "    'max_depth': [None, 10, 20, 30],\n",
    "    'min_samples_split': [2, 5, 10],\n",
    "    'min_samples_leaf': [1, 2, 4],\n",
    "    'max_features': ['sqrt', 'log2'],\n",
    "    'bootstrap': [True, False]\n",
    "}"
   ]
  },
  {
   "cell_type": "code",
   "execution_count": 23,
   "metadata": {},
   "outputs": [
    {
     "name": "stdout",
     "output_type": "stream",
     "text": [
      "Best Hyperparameters: {'n_estimators': 200, 'min_samples_split': 5, 'min_samples_leaf': 2, 'max_features': 'sqrt', 'max_depth': 20, 'criterion': 'gini', 'bootstrap': False}\n"
     ]
    }
   ],
   "source": [
    "rf_model = RandomForestClassifier()\n",
    "random_search = RandomizedSearchCV(estimator=rf_model, param_distributions=rf_params, n_iter=10, cv=5, scoring='accuracy', random_state=9)\n",
    "random_search.fit(X_train, y_train)\n",
    "\n",
    "# Get the best hyperparameters\n",
    "best_params = random_search.best_params_\n",
    "print(\"Best Hyperparameters:\", best_params)\n"
   ]
  },
  {
   "cell_type": "code",
   "execution_count": 24,
   "metadata": {},
   "outputs": [
    {
     "name": "stdout",
     "output_type": "stream",
     "text": [
      "              precision    recall  f1-score   support\n",
      "\n",
      "           0       0.82      0.86      0.84      1000\n",
      "           1       0.99      0.97      0.98      1000\n",
      "           2       0.81      0.81      0.81      1000\n",
      "           3       0.89      0.93      0.91      1000\n",
      "           4       0.80      0.87      0.83      1000\n",
      "           5       0.98      0.95      0.96      1000\n",
      "           6       0.76      0.63      0.69      1000\n",
      "           7       0.93      0.94      0.94      1000\n",
      "           8       0.95      0.98      0.97      1000\n",
      "           9       0.94      0.95      0.95      1000\n",
      "\n",
      "    accuracy                           0.89     10000\n",
      "   macro avg       0.89      0.89      0.89     10000\n",
      "weighted avg       0.89      0.89      0.89     10000\n",
      "\n",
      "Elapsed Time: 418.7962918281555 seconds\n"
     ]
    }
   ],
   "source": [
    "start_time = time.time()\n",
    "\n",
    "best_rf_model = RandomForestClassifier(**best_params)\n",
    "best_rf_model.fit(X_train, y_train)\n",
    "\n",
    "end_time = time.time()\n",
    "elapsed_time = end_time - start_time\n",
    "\n",
    "best_rf_predictions = best_rf_model.predict(X_test)\n",
    "\n",
    "print(classification_report(y_test, best_rf_predictions))\n",
    "print(f\"Elapsed Time: {elapsed_time} seconds\")"
   ]
  },
  {
   "cell_type": "markdown",
   "metadata": {},
   "source": [
    "##### SVM (Slow route more accurate) "
   ]
  },
  {
   "cell_type": "markdown",
   "metadata": {},
   "source": [
    "**Note to team**\n",
    "- the 3 models was trained by mistake on the 784 colums. I didnt delete them for reference , and for validation that the PCA dataset will have the same parameters as those models"
   ]
  },
  {
   "cell_type": "code",
   "execution_count": 10,
   "metadata": {},
   "outputs": [],
   "source": [
    "# SVM parameters\n",
    "svm_params = {\n",
    "    'C': [0.1, 1, 10, 100],\n",
    "    'kernel': ['linear', 'poly', 'rbf', 'sigmoid']\n",
    "}"
   ]
  },
  {
   "cell_type": "code",
   "execution_count": 11,
   "metadata": {},
   "outputs": [
    {
     "name": "stdout",
     "output_type": "stream",
     "text": [
      "Best Hyperparameters for SVM: {'kernel': 'rbf', 'C': 10}\n"
     ]
    }
   ],
   "source": [
    "start_time = time.time()\n",
    "# Create SVM model\n",
    "svm_model = SVC()\n",
    "random_search_svm = RandomizedSearchCV(estimator=svm_model, param_distributions=svm_params, n_iter=10, cv=5, scoring='accuracy', random_state=9)\n",
    "random_search_svm.fit(X_train, y_train)\n",
    "\n",
    "end_time_svm = time.time()\n",
    "elapsed_time_svm = end_time_svm - start_time\n",
    "\n",
    "# Get the best hyperparameters for SVM\n",
    "best_params_svm = random_search_svm.best_params_\n",
    "print(\"Best Hyperparameters for SVM:\", best_params_svm)"
   ]
  },
  {
   "cell_type": "code",
   "execution_count": 12,
   "metadata": {},
   "outputs": [
    {
     "name": "stdout",
     "output_type": "stream",
     "text": [
      "24118.504173517227\n"
     ]
    }
   ],
   "source": [
    "print(elapsed_time_svm)"
   ]
  },
  {
   "cell_type": "code",
   "execution_count": 13,
   "metadata": {},
   "outputs": [
    {
     "name": "stdout",
     "output_type": "stream",
     "text": [
      "Classification Report for SVM:\n",
      "              precision    recall  f1-score   support\n",
      "\n",
      "           0       0.84      0.88      0.86      1000\n",
      "           1       0.99      0.98      0.99      1000\n",
      "           2       0.85      0.83      0.84      1000\n",
      "           3       0.91      0.92      0.91      1000\n",
      "           4       0.85      0.88      0.86      1000\n",
      "           5       0.98      0.96      0.97      1000\n",
      "           6       0.79      0.73      0.76      1000\n",
      "           7       0.94      0.96      0.95      1000\n",
      "           8       0.98      0.98      0.98      1000\n",
      "           9       0.96      0.97      0.96      1000\n",
      "\n",
      "    accuracy                           0.91     10000\n",
      "   macro avg       0.91      0.91      0.91     10000\n",
      "weighted avg       0.91      0.91      0.91     10000\n",
      "\n",
      "Elapsed Time for SVM: 617.405758857727 seconds\n"
     ]
    }
   ],
   "source": [
    "start_time = time.time()\n",
    "# Create and train the best SVM model\n",
    "best_svm_model = SVC(**best_params_svm)\n",
    "best_svm_model.fit(X_train, y_train)\n",
    "\n",
    "# Make predictions and evaluate the SVM model\n",
    "best_svm_predictions = best_svm_model.predict(X_test)\n",
    "\n",
    "print(\"Classification Report for SVM:\")\n",
    "print(classification_report(y_test, best_svm_predictions))\n",
    "\n",
    "# Calculate elapsed time\n",
    "end_time_svm = time.time()\n",
    "elapsed_time_svm = end_time_svm - start_time\n",
    "\n",
    "print(f\"Elapsed Time for SVM: {elapsed_time_svm} seconds\")"
   ]
  },
  {
   "cell_type": "markdown",
   "metadata": {},
   "source": [
    "Second try wiht more parameters"
   ]
  },
  {
   "cell_type": "code",
   "execution_count": 15,
   "metadata": {},
   "outputs": [],
   "source": [
    "# SVM parameters\n",
    "svm_params = {\n",
    "    'C': [10],\n",
    "    'kernel': ['rbf'],\n",
    "    'degree': [2, 3, 4],\n",
    "}"
   ]
  },
  {
   "cell_type": "code",
   "execution_count": 16,
   "metadata": {},
   "outputs": [
    {
     "name": "stdout",
     "output_type": "stream",
     "text": [
      "Best Hyperparameters for SVM: {'kernel': 'rbf', 'degree': 2, 'C': 10}\n",
      "5732.634997367859\n"
     ]
    }
   ],
   "source": [
    "start_time = time.time()\n",
    "# Create SVM model\n",
    "svm_model = SVC()\n",
    "random_search_svm = RandomizedSearchCV(estimator=svm_model, param_distributions=svm_params, n_iter=10, cv=5, scoring='accuracy', random_state=9)\n",
    "random_search_svm.fit(X_train, y_train)\n",
    "\n",
    "end_time_svm = time.time()\n",
    "elapsed_time_svm = end_time_svm - start_time\n",
    "\n",
    "# Get the best hyperparameters for SVM\n",
    "best_params_svm = random_search_svm.best_params_\n",
    "print(\"Best Hyperparameters for SVM:\", best_params_svm)\n",
    "print(elapsed_time_svm)"
   ]
  },
  {
   "cell_type": "code",
   "execution_count": 17,
   "metadata": {},
   "outputs": [
    {
     "name": "stdout",
     "output_type": "stream",
     "text": [
      "Classification Report for SVM:\n",
      "              precision    recall  f1-score   support\n",
      "\n",
      "           0       0.84      0.88      0.86      1000\n",
      "           1       0.99      0.98      0.99      1000\n",
      "           2       0.85      0.83      0.84      1000\n",
      "           3       0.91      0.92      0.91      1000\n",
      "           4       0.85      0.88      0.86      1000\n",
      "           5       0.98      0.96      0.97      1000\n",
      "           6       0.79      0.73      0.76      1000\n",
      "           7       0.94      0.96      0.95      1000\n",
      "           8       0.98      0.98      0.98      1000\n",
      "           9       0.96      0.97      0.96      1000\n",
      "\n",
      "    accuracy                           0.91     10000\n",
      "   macro avg       0.91      0.91      0.91     10000\n",
      "weighted avg       0.91      0.91      0.91     10000\n",
      "\n",
      "Elapsed Time for SVM: 456.52554082870483 seconds\n"
     ]
    }
   ],
   "source": [
    "start_time = time.time()\n",
    "# Create and train the best SVM model\n",
    "best_svm_model = SVC(**best_params_svm)\n",
    "best_svm_model.fit(X_train, y_train)\n",
    "\n",
    "# Make predictions and evaluate the SVM model\n",
    "best_svm_predictions = best_svm_model.predict(X_test)\n",
    "\n",
    "print(\"Classification Report for SVM:\")\n",
    "print(classification_report(y_test, best_svm_predictions))\n",
    "\n",
    "# Calculate elapsed time\n",
    "end_time_svm = time.time()\n",
    "elapsed_time_svm = end_time_svm - start_time\n",
    "\n",
    "print(f\"Elapsed Time for SVM: {elapsed_time_svm} seconds\")"
   ]
  },
  {
   "cell_type": "markdown",
   "metadata": {},
   "source": [
    "Third try wiht one more parameter"
   ]
  },
  {
   "cell_type": "code",
   "execution_count": 18,
   "metadata": {},
   "outputs": [],
   "source": [
    "# SVM parameters\n",
    "svm_params = {\n",
    "    'C': [10],\n",
    "    'kernel': ['rbf'],\n",
    "    'degree': [2],\n",
    "    'gamma': ['scale', 'auto', 0.1, 1, 10],\n",
    "}"
   ]
  },
  {
   "cell_type": "code",
   "execution_count": 19,
   "metadata": {},
   "outputs": [
    {
     "name": "stdout",
     "output_type": "stream",
     "text": [
      "Best Hyperparameters for SVM: {'kernel': 'rbf', 'gamma': 'scale', 'degree': 2, 'C': 10}\n",
      "77782.5097591877\n"
     ]
    }
   ],
   "source": [
    "start_time = time.time()\n",
    "# Create SVM model\n",
    "svm_model = SVC()\n",
    "random_search_svm = RandomizedSearchCV(estimator=svm_model, param_distributions=svm_params, n_iter=10, cv=5, scoring='accuracy', random_state=9)\n",
    "random_search_svm.fit(X_train, y_train)\n",
    "\n",
    "end_time_svm = time.time()\n",
    "elapsed_time_svm = end_time_svm - start_time\n",
    "\n",
    "# Get the best hyperparameters for SVM\n",
    "best_params_svm = random_search_svm.best_params_\n",
    "print(\"Best Hyperparameters for SVM:\", best_params_svm)\n",
    "print(elapsed_time_svm)"
   ]
  },
  {
   "cell_type": "code",
   "execution_count": 20,
   "metadata": {},
   "outputs": [
    {
     "name": "stdout",
     "output_type": "stream",
     "text": [
      "Classification Report for SVM:\n",
      "              precision    recall  f1-score   support\n",
      "\n",
      "           0       0.84      0.88      0.86      1000\n",
      "           1       0.99      0.98      0.99      1000\n",
      "           2       0.85      0.83      0.84      1000\n",
      "           3       0.91      0.92      0.91      1000\n",
      "           4       0.85      0.88      0.86      1000\n",
      "           5       0.98      0.96      0.97      1000\n",
      "           6       0.79      0.73      0.76      1000\n",
      "           7       0.94      0.96      0.95      1000\n",
      "           8       0.98      0.98      0.98      1000\n",
      "           9       0.96      0.97      0.96      1000\n",
      "\n",
      "    accuracy                           0.91     10000\n",
      "   macro avg       0.91      0.91      0.91     10000\n",
      "weighted avg       0.91      0.91      0.91     10000\n",
      "\n",
      "Elapsed Time for SVM: 492.48690605163574 seconds\n"
     ]
    }
   ],
   "source": [
    "start_time = time.time()\n",
    "# Create and train the best SVM model\n",
    "best_svm_model = SVC(**best_params_svm)\n",
    "best_svm_model.fit(X_train, y_train)\n",
    "\n",
    "# Make predictions and evaluate the SVM model\n",
    "best_svm_predictions = best_svm_model.predict(X_test)\n",
    "\n",
    "print(\"Classification Report for SVM:\")\n",
    "print(classification_report(y_test, best_svm_predictions))\n",
    "\n",
    "# Calculate elapsed time\n",
    "end_time_svm = time.time()\n",
    "elapsed_time_svm = end_time_svm - start_time\n",
    "\n",
    "print(f\"Elapsed Time for SVM: {elapsed_time_svm} seconds\")"
   ]
  },
  {
   "cell_type": "markdown",
   "metadata": {},
   "source": [
    "---\n",
    "\n",
    "---"
   ]
  },
  {
   "cell_type": "markdown",
   "metadata": {},
   "source": [
    "Selected model SVM with PCA"
   ]
  },
  {
   "cell_type": "code",
   "execution_count": 11,
   "metadata": {},
   "outputs": [],
   "source": [
    "# SVM parameters\n",
    "svm_params = {\n",
    "    'C': [0.1, 1, 10, 100],\n",
    "    'kernel': ['linear', 'poly', 'rbf', 'sigmoid']\n",
    "    \n",
    "}"
   ]
  },
  {
   "cell_type": "code",
   "execution_count": 12,
   "metadata": {},
   "outputs": [
    {
     "name": "stdout",
     "output_type": "stream",
     "text": [
      "Best Hyperparameters for SVM: {'kernel': 'rbf', 'C': 10}\n",
      "10273.709419488907\n"
     ]
    }
   ],
   "source": [
    "start_time = time.time()\n",
    "# Create SVM model\n",
    "svm_model = SVC()\n",
    "random_search_svm = RandomizedSearchCV(estimator=svm_model, param_distributions=svm_params, n_iter=10, cv=5, scoring='accuracy', random_state=9)\n",
    "random_search_svm.fit(X_train_pca, y_train)\n",
    "\n",
    "end_time_svm = time.time()\n",
    "elapsed_time_svm = end_time_svm - start_time\n",
    "\n",
    "# Get the best hyperparameters for SVM\n",
    "best_params_svm = random_search_svm.best_params_\n",
    "print(\"Best Hyperparameters for SVM:\", best_params_svm)\n",
    "print(elapsed_time_svm)"
   ]
  },
  {
   "cell_type": "code",
   "execution_count": 13,
   "metadata": {},
   "outputs": [
    {
     "name": "stdout",
     "output_type": "stream",
     "text": [
      "Classification Report for SVM:\n",
      "              precision    recall  f1-score   support\n",
      "\n",
      "           0       0.83      0.87      0.85      1000\n",
      "           1       0.99      0.98      0.99      1000\n",
      "           2       0.85      0.84      0.85      1000\n",
      "           3       0.91      0.92      0.92      1000\n",
      "           4       0.86      0.87      0.86      1000\n",
      "           5       0.98      0.96      0.97      1000\n",
      "           6       0.79      0.74      0.76      1000\n",
      "           7       0.94      0.96      0.95      1000\n",
      "           8       0.98      0.98      0.98      1000\n",
      "           9       0.97      0.97      0.97      1000\n",
      "\n",
      "    accuracy                           0.91     10000\n",
      "   macro avg       0.91      0.91      0.91     10000\n",
      "weighted avg       0.91      0.91      0.91     10000\n",
      "\n",
      "Elapsed Time for SVM: 1088.9808773994446 seconds\n"
     ]
    }
   ],
   "source": [
    "start_time = time.time()\n",
    "# Create and train the best SVM model\n",
    "svm_model = SVC(kernel= 'rbf', C= 10, probability=True)\n",
    "svm_model.fit(X_train_pca, y_train)\n",
    "\n",
    "# Make predictions and evaluate the SVM model\n",
    "svm_predictions = svm_model.predict(X_test_pca)\n",
    "\n",
    "print(\"Classification Report for SVM:\")\n",
    "print(classification_report(y_test, svm_predictions))\n",
    "\n",
    "# Calculate elapsed time\n",
    "end_time_svm = time.time()\n",
    "elapsed_time_svm = end_time_svm - start_time\n",
    "\n",
    "print(f\"Elapsed Time for SVM: {elapsed_time_svm} seconds\")"
   ]
  },
  {
   "cell_type": "code",
   "execution_count": null,
   "metadata": {},
   "outputs": [],
   "source": []
  }
 ],
 "metadata": {
  "kernelspec": {
   "display_name": "dtsc3.11",
   "language": "python",
   "name": "python3"
  },
  "language_info": {
   "codemirror_mode": {
    "name": "ipython",
    "version": 3
   },
   "file_extension": ".py",
   "mimetype": "text/x-python",
   "name": "python",
   "nbconvert_exporter": "python",
   "pygments_lexer": "ipython3",
   "version": "3.12.0"
  }
 },
 "nbformat": 4,
 "nbformat_minor": 2
}
