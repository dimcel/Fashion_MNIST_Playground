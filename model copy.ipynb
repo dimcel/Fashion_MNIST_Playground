{
 "cells": [
  {
   "cell_type": "markdown",
   "metadata": {},
   "source": [
    "---\n",
    "<h1 style=\"text-align:center;\"> Fashion MNIST</h1>\n",
    "\n",
    "---"
   ]
  },
  {
   "cell_type": "markdown",
   "metadata": {},
   "source": [
    "Dataset Information:\n",
    "\n",
    "Fashion-MNIST is a dataset consisting of images of Zalando's articles. The dataset serves as a replacement for the original MNIST dataset and includes a training set of 60,000 examples and a test set of 10,000 examples. Each image is a grayscale 28x28 pixel image, associated with a label from 10 different classes. The goal is to provide a benchmark for machine learning algorithms, maintaining the same image size and structure as the original MNIST dataset.\n",
    "\n",
    "Original MNIST dataset, known for handwritten digits, is widely used in the AI/ML/Data Science community for algorithm validation. The popularity stems from the belief that \"If it doesn't work on MNIST, it won't work at all\" and, conversely, \"If it works on MNIST, it may still fail on others.\"\n",
    "\n",
    "Zalando aims to replace the original MNIST dataset with Fashion-MNIST.\n",
    "\n",
    "Dataset Details:\n",
    "- Each image has dimensions of 28 pixels in height and 28 pixels in width, totaling 784 pixels.\n",
    "- Pixel values range from 0 to 255, indicating the lightness or darkness of the pixel, with higher values indicating darker pixels.\n",
    "- The dataset contains 785 columns, with the first column representing the class labels (clothing types), and the remaining columns containing pixel-values of the associated images.\n",
    "\n",
    "Pixel Location:\n",
    "- To locate a pixel in the image, use the formula x = i * 28 + j, where i and j are integers between 0 and 27. This formula represents the position of the pixel in a 28x28 matrix.\n",
    "\n",
    "Labels:\n",
    "- Each training and test example is labeled with one of the following classes:\n",
    "  - 0: T-shirt/top\n",
    "  - 1: Trouser\n",
    "  - 2: Pullover\n",
    "  - 3: Dress\n",
    "  - 4: Coat\n",
    "  - 5: Sandal\n",
    "  - 6: Shirt\n",
    "  - 7: Sneaker\n",
    "  - 8: Bag\n",
    "  - 9: Ankle boot\n",
    "\n",
    "Summary:\n",
    "- Each row in the dataset represents a separate image.\n",
    "- Column 1 contains the class label.\n",
    "- The remaining columns represent pixel numbers (784 total).\n",
    "- Each value in the dataset corresponds to the darkness of the pixel, ranging from 1 to 255."
   ]
  },
  {
   "cell_type": "code",
   "execution_count": 1,
   "metadata": {},
   "outputs": [],
   "source": [
    "import pandas as pd\n",
    "import numpy as np\n",
    "import matplotlib.pyplot as plt\n",
    "import seaborn as sns\n",
    "\n",
    "from sklearn.model_selection import train_test_split, cross_val_score, RandomizedSearchCV, learning_curve, validation_curve\n",
    "\n",
    "from sklearn.tree import DecisionTreeClassifier\n",
    "from sklearn.linear_model import LogisticRegression\n",
    "from sklearn.svm import SVC\n",
    "from sklearn.ensemble import RandomForestClassifier\n",
    "\n",
    "\n",
    "from sklearn.metrics import accuracy_score, confusion_matrix, classification_report"
   ]
  },
  {
   "cell_type": "code",
   "execution_count": 2,
   "metadata": {},
   "outputs": [],
   "source": [
    "train_data = pd.read_csv('fashion-mnist_train.csv')\n",
    "test_data = pd.read_csv('fashion-mnist_test.csv')"
   ]
  },
  {
   "cell_type": "code",
   "execution_count": 3,
   "metadata": {},
   "outputs": [],
   "source": [
    "# split our data to X and y\n",
    "X_train = train_data.drop(\"label\", axis=1).values\n",
    "y_train = train_data[\"label\"].values\n",
    "X_test = test_data.drop(\"label\", axis=1).values\n",
    "y_test = test_data[\"label\"].values"
   ]
  },
  {
   "cell_type": "code",
   "execution_count": 4,
   "metadata": {},
   "outputs": [],
   "source": [
    "X_train = X_train.astype('float')\n",
    "X_test = X_test.astype('float')\n",
    "\n",
    "#normalising the data\n",
    "X_train /= 255 \n",
    "X_test /= 255"
   ]
  },
  {
   "cell_type": "markdown",
   "metadata": {},
   "source": [
    "---\n",
    "<h3 style=\"text-align:center;\"> Models</h3>\n",
    "\n",
    "---"
   ]
  },
  {
   "cell_type": "code",
   "execution_count": 5,
   "metadata": {},
   "outputs": [],
   "source": [
    "X_train_train, X_train_val, y_train_train, y_train_val = train_test_split(X_train, y_train, test_size=0.2, stratify=y_train, random_state=9)"
   ]
  },
  {
   "cell_type": "code",
   "execution_count": 5,
   "metadata": {},
   "outputs": [],
   "source": [
    "import time\n",
    "from sklearn.naive_bayes import GaussianNB\n",
    "from xgboost import XGBClassifier\n",
    "import warnings\n",
    "\n",
    "# Suppress all warnings\n",
    "warnings.filterwarnings(\"ignore\")"
   ]
  },
  {
   "cell_type": "code",
   "execution_count": 6,
   "metadata": {},
   "outputs": [],
   "source": [
    "models = {\n",
    "    'Naive Bayes': GaussianNB(),\n",
    "    'Logistic Regression': LogisticRegression(),\n",
    "    'Decision Tree': DecisionTreeClassifier(),\n",
    "    'SVM': SVC(),\n",
    "    'Random Forest': RandomForestClassifier(),\n",
    "    'XGBoost': XGBClassifier()\n",
    "}\n"
   ]
  },
  {
   "cell_type": "code",
   "execution_count": 8,
   "metadata": {},
   "outputs": [],
   "source": [
    "def perform_cross_validation(model, X, y, n_folds=5):\n",
    "    try:\n",
    "        start_time = time.time()\n",
    "\n",
    "        cv_scores = cross_val_score(model, X, y, cv=n_folds)\n",
    "\n",
    "        end_time = time.time()\n",
    "\n",
    "        elapsed_time = end_time - start_time\n",
    "\n",
    "        print(\"Cross-Validation Scores:\", cv_scores)\n",
    "        print(\"Average CV Score:\", cv_scores.mean())\n",
    "        print(f\"Elapsed Time: {elapsed_time} seconds\")\n",
    "    except Exception as e:\n",
    "        print(f\"An error occurred while cross-validating {type(model).__name__}: {e}\")"
   ]
  },
  {
   "cell_type": "code",
   "execution_count": 10,
   "metadata": {},
   "outputs": [
    {
     "name": "stdout",
     "output_type": "stream",
     "text": [
      "=== Naive Bayes ===\n",
      "Cross-Validation Scores: [0.59783333 0.57675    0.60958333 0.59758333 0.58616667]\n",
      "Average CV Score: 0.5935833333333334\n",
      "Elapsed Time: 13.132946729660034 seconds\n",
      "================\n",
      "\n",
      "=== Logistic Regression ===\n",
      "Cross-Validation Scores: [0.85558333 0.85425    0.85825    0.85416667 0.85233333]\n",
      "Average CV Score: 0.8549166666666667\n",
      "Elapsed Time: 79.93741965293884 seconds\n",
      "================\n",
      "\n",
      "=== Decision Tree ===\n",
      "Cross-Validation Scores: [0.79241667 0.79233333 0.79333333 0.79616667 0.79233333]\n",
      "Average CV Score: 0.7933166666666667\n",
      "Elapsed Time: 349.01535987854004 seconds\n",
      "================\n",
      "\n",
      "=== SVM ===\n",
      "Cross-Validation Scores: [0.88775    0.88691667 0.8945     0.88491667 0.88441667]\n",
      "Average CV Score: 0.8876999999999999\n",
      "Elapsed Time: 2523.4591178894043 seconds\n",
      "================\n",
      "\n",
      "=== Random Forest ===\n",
      "Cross-Validation Scores: [0.87908333 0.8815     0.88275    0.87833333 0.88258333]\n",
      "Average CV Score: 0.88085\n",
      "Elapsed Time: 850.1695411205292 seconds\n",
      "================\n",
      "\n",
      "=== XGBoost ===\n",
      "Cross-Validation Scores: [0.90133333 0.9025     0.90425    0.90058333 0.89908333]\n",
      "Average CV Score: 0.9015500000000001\n",
      "Elapsed Time: 1263.2607119083405 seconds\n",
      "================\n",
      "\n"
     ]
    }
   ],
   "source": [
    "\n",
    "# Example usage of the loop\n",
    "for model_name, model in models.items():\n",
    "    print(f\"=== {model_name} ===\")\n",
    "    perform_cross_validation(model, X_train, y_train, n_folds=5)\n",
    "    print(\"================\\n\")"
   ]
  },
  {
   "cell_type": "code",
   "execution_count": 11,
   "metadata": {},
   "outputs": [],
   "source": [
    "from sklearn.decomposition import PCA\n",
    "\n",
    "# Assuming X_train is your training data\n",
    "pca = PCA()\n",
    "X_train_pca = pca.fit_transform(X_train)\n",
    "\n",
    "# Choose the number of components to keep (e.g., 95% of the variance)\n",
    "target_variance = 0.95\n",
    "num_components = next(i for i, cum_var in enumerate(pca.explained_variance_ratio_.cumsum()) if cum_var >= target_variance)\n",
    "\n",
    "# Apply PCA with the selected number of components\n",
    "pca = PCA(n_components=num_components)\n"
   ]
  },
  {
   "cell_type": "code",
   "execution_count": 12,
   "metadata": {},
   "outputs": [],
   "source": [
    "X_train_pca = pca.fit_transform(X_train)\n",
    "X_test_pca = pca.transform(X_test)"
   ]
  },
  {
   "cell_type": "code",
   "execution_count": 13,
   "metadata": {},
   "outputs": [
    {
     "data": {
      "text/plain": [
       "((60000, 186), (10000, 186))"
      ]
     },
     "execution_count": 13,
     "metadata": {},
     "output_type": "execute_result"
    }
   ],
   "source": [
    "X_train_pca.shape, X_test_pca.shape"
   ]
  },
  {
   "cell_type": "code",
   "execution_count": 14,
   "metadata": {},
   "outputs": [
    {
     "name": "stdout",
     "output_type": "stream",
     "text": [
      "=== Naive Bayes ===\n",
      "Cross-Validation Scores: [0.74666667 0.74641667 0.74808333 0.74391667 0.75008333]\n",
      "Average CV Score: 0.7470333333333333\n",
      "Elapsed Time: 1.8628146648406982 seconds\n",
      "================\n",
      "\n",
      "=== Logistic Regression ===\n",
      "Cross-Validation Scores: [0.85416667 0.85283333 0.85441667 0.85041667 0.85291667]\n",
      "Average CV Score: 0.8529500000000001\n",
      "Elapsed Time: 18.182113647460938 seconds\n",
      "================\n",
      "\n",
      "=== Decision Tree ===\n",
      "Cross-Validation Scores: [0.75733333 0.75683333 0.76108333 0.75791667 0.75725   ]\n",
      "Average CV Score: 0.7580833333333332\n",
      "Elapsed Time: 363.16396045684814 seconds\n",
      "================\n",
      "\n",
      "=== SVM ===\n",
      "Cross-Validation Scores: [0.89091667 0.89391667 0.89591667 0.88825    0.89133333]\n",
      "Average CV Score: 0.8920666666666666\n",
      "Elapsed Time: 975.1259844303131 seconds\n",
      "================\n",
      "\n",
      "=== Random Forest ===\n",
      "Cross-Validation Scores: [0.86408333 0.86333333 0.86891667 0.85883333 0.86166667]\n",
      "Average CV Score: 0.8633666666666666\n",
      "Elapsed Time: 1777.7181723117828 seconds\n",
      "================\n",
      "\n",
      "=== XGBoost ===\n",
      "Cross-Validation Scores: [0.88083333 0.88066667 0.88666667 0.87883333 0.88058333]\n",
      "Average CV Score: 0.8815166666666666\n",
      "Elapsed Time: 186.21637678146362 seconds\n",
      "================\n",
      "\n"
     ]
    }
   ],
   "source": [
    "# Example usage of the loop\n",
    "for model_name, model in models.items():\n",
    "    print(f\"=== {model_name} ===\")\n",
    "    perform_cross_validation(model, X_train_pca, y_train, n_folds=5)\n",
    "    print(\"================\\n\")"
   ]
  },
  {
   "cell_type": "code",
   "execution_count": null,
   "metadata": {},
   "outputs": [],
   "source": []
  },
  {
   "cell_type": "code",
   "execution_count": 11,
   "metadata": {},
   "outputs": [
    {
     "name": "stdout",
     "output_type": "stream",
     "text": [
      "              precision    recall  f1-score   support\n",
      "\n",
      "           0       0.80      0.81      0.81      1000\n",
      "           1       0.97      0.97      0.97      1000\n",
      "           2       0.77      0.76      0.76      1000\n",
      "           3       0.86      0.89      0.87      1000\n",
      "           4       0.78      0.81      0.79      1000\n",
      "           5       0.93      0.92      0.92      1000\n",
      "           6       0.66      0.60      0.63      1000\n",
      "           7       0.91      0.91      0.91      1000\n",
      "           8       0.94      0.95      0.94      1000\n",
      "           9       0.94      0.94      0.94      1000\n",
      "\n",
      "    accuracy                           0.86     10000\n",
      "   macro avg       0.85      0.86      0.86     10000\n",
      "weighted avg       0.85      0.86      0.86     10000\n",
      "\n"
     ]
    },
    {
     "name": "stderr",
     "output_type": "stream",
     "text": [
      "c:\\Users\\tsentelisd\\OneDrive - Vodafone Group\\Desktop\\Temp\\Machine-Learning-2\\.venv\\Lib\\site-packages\\sklearn\\linear_model\\_logistic.py:460: ConvergenceWarning: lbfgs failed to converge (status=1):\n",
      "STOP: TOTAL NO. of ITERATIONS REACHED LIMIT.\n",
      "\n",
      "Increase the number of iterations (max_iter) or scale the data as shown in:\n",
      "    https://scikit-learn.org/stable/modules/preprocessing.html\n",
      "Please also refer to the documentation for alternative solver options:\n",
      "    https://scikit-learn.org/stable/modules/linear_model.html#logistic-regression\n",
      "  n_iter_i = _check_optimize_result(\n"
     ]
    }
   ],
   "source": [
    "# Logistic Regression\n",
    "lr_model = LogisticRegression()\n",
    "lr_model.fit(X_train, y_train)\n",
    "lr_predictions = lr_model.predict(X_test)\n",
    "\n",
    "lr_classification_report = classification_report(y_test, lr_predictions)\n",
    "print(lr_classification_report)"
   ]
  },
  {
   "cell_type": "code",
   "execution_count": 49,
   "metadata": {},
   "outputs": [
    {
     "name": "stdout",
     "output_type": "stream",
     "text": [
      "              precision    recall  f1-score   support\n",
      "\n",
      "           0       0.73      0.74      0.74      1000\n",
      "           1       0.95      0.97      0.96      1000\n",
      "           2       0.70      0.67      0.68      1000\n",
      "           3       0.82      0.80      0.81      1000\n",
      "           4       0.67      0.69      0.68      1000\n",
      "           5       0.90      0.87      0.88      1000\n",
      "           6       0.56      0.56      0.56      1000\n",
      "           7       0.86      0.85      0.86      1000\n",
      "           8       0.91      0.91      0.91      1000\n",
      "           9       0.89      0.90      0.89      1000\n",
      "\n",
      "    accuracy                           0.80     10000\n",
      "   macro avg       0.80      0.80      0.80     10000\n",
      "weighted avg       0.80      0.80      0.80     10000\n",
      "\n"
     ]
    }
   ],
   "source": [
    "# SVM\n",
    "svm_model = SVC()\n",
    "svm_model.fit(X_train, y_train)\n",
    "svm_predictions = svm_model.predict(X_test)\n",
    "\n",
    "svm_report = classification_report(y_test, svm_predictions)\n",
    "print(svm_report)"
   ]
  },
  {
   "cell_type": "code",
   "execution_count": 56,
   "metadata": {},
   "outputs": [
    {
     "name": "stdout",
     "output_type": "stream",
     "text": [
      "              precision    recall  f1-score   support\n",
      "\n",
      "           0       0.80      0.86      0.83      1000\n",
      "           1       0.99      0.97      0.98      1000\n",
      "           2       0.80      0.80      0.80      1000\n",
      "           3       0.89      0.93      0.91      1000\n",
      "           4       0.80      0.87      0.84      1000\n",
      "           5       0.97      0.95      0.96      1000\n",
      "           6       0.74      0.59      0.66      1000\n",
      "           7       0.92      0.93      0.93      1000\n",
      "           8       0.95      0.97      0.96      1000\n",
      "           9       0.94      0.95      0.94      1000\n",
      "\n",
      "    accuracy                           0.88     10000\n",
      "   macro avg       0.88      0.88      0.88     10000\n",
      "weighted avg       0.88      0.88      0.88     10000\n",
      "\n"
     ]
    }
   ],
   "source": [
    "# random forest \n",
    "rf_model = RandomForestClassifier()\n",
    "rf_model.fit(X_train, y_train)\n",
    "rf_predictions = rf_model.predict(X_test)\n",
    "\n",
    "rf_report = classification_report(y_test, rf_predictions)\n",
    "print(rf_report)"
   ]
  },
  {
   "cell_type": "code",
   "execution_count": null,
   "metadata": {},
   "outputs": [],
   "source": []
  },
  {
   "cell_type": "code",
   "execution_count": null,
   "metadata": {},
   "outputs": [],
   "source": []
  },
  {
   "cell_type": "code",
   "execution_count": null,
   "metadata": {},
   "outputs": [],
   "source": []
  },
  {
   "cell_type": "code",
   "execution_count": null,
   "metadata": {},
   "outputs": [],
   "source": []
  },
  {
   "cell_type": "code",
   "execution_count": 1,
   "metadata": {},
   "outputs": [],
   "source": [
    "rf_params = {\n",
    "    'n_estimators': [50, 100, 200],\n",
    "    'criterion': ['gini', 'entropy'],\n",
    "    'max_depth': [None, 10, 20, 30],\n",
    "    'min_samples_split': [2, 5, 10],\n",
    "    'min_samples_leaf': [1, 2, 4],\n",
    "    'max_features': ['auto', 'sqrt', 'log2'],\n",
    "    'bootstrap': [True, False]\n",
    "}"
   ]
  },
  {
   "cell_type": "code",
   "execution_count": 10,
   "metadata": {},
   "outputs": [
    {
     "name": "stderr",
     "output_type": "stream",
     "text": [
      "c:\\Users\\tsentelisd\\OneDrive - Vodafone Group\\Desktop\\Temp\\Machine-Learning-2\\.venv\\Lib\\site-packages\\sklearn\\model_selection\\_validation.py:425: FitFailedWarning: \n",
      "25 fits failed out of a total of 50.\n",
      "The score on these train-test partitions for these parameters will be set to nan.\n",
      "If these failures are not expected, you can try to debug them by setting error_score='raise'.\n",
      "\n",
      "Below are more details about the failures:\n",
      "--------------------------------------------------------------------------------\n",
      "25 fits failed with the following error:\n",
      "Traceback (most recent call last):\n",
      "  File \"c:\\Users\\tsentelisd\\OneDrive - Vodafone Group\\Desktop\\Temp\\Machine-Learning-2\\.venv\\Lib\\site-packages\\sklearn\\model_selection\\_validation.py\", line 729, in _fit_and_score\n",
      "    estimator.fit(X_train, y_train, **fit_params)\n",
      "  File \"c:\\Users\\tsentelisd\\OneDrive - Vodafone Group\\Desktop\\Temp\\Machine-Learning-2\\.venv\\Lib\\site-packages\\sklearn\\base.py\", line 1145, in wrapper\n",
      "    estimator._validate_params()\n",
      "  File \"c:\\Users\\tsentelisd\\OneDrive - Vodafone Group\\Desktop\\Temp\\Machine-Learning-2\\.venv\\Lib\\site-packages\\sklearn\\base.py\", line 638, in _validate_params\n",
      "    validate_parameter_constraints(\n",
      "  File \"c:\\Users\\tsentelisd\\OneDrive - Vodafone Group\\Desktop\\Temp\\Machine-Learning-2\\.venv\\Lib\\site-packages\\sklearn\\utils\\_param_validation.py\", line 96, in validate_parameter_constraints\n",
      "    raise InvalidParameterError(\n",
      "sklearn.utils._param_validation.InvalidParameterError: The 'max_features' parameter of RandomForestClassifier must be an int in the range [1, inf), a float in the range (0.0, 1.0], a str among {'sqrt', 'log2'} or None. Got 'auto' instead.\n",
      "\n",
      "  warnings.warn(some_fits_failed_message, FitFailedWarning)\n",
      "c:\\Users\\tsentelisd\\OneDrive - Vodafone Group\\Desktop\\Temp\\Machine-Learning-2\\.venv\\Lib\\site-packages\\sklearn\\model_selection\\_search.py:979: UserWarning: One or more of the test scores are non-finite: [0.87643333        nan 0.87456667        nan 0.87781667 0.8847\n",
      "        nan        nan 0.85428333        nan]\n",
      "  warnings.warn(\n"
     ]
    },
    {
     "name": "stdout",
     "output_type": "stream",
     "text": [
      "Best Hyperparameters: {'n_estimators': 50, 'min_samples_split': 2, 'min_samples_leaf': 1, 'max_features': 'sqrt', 'max_depth': 30, 'criterion': 'gini', 'bootstrap': False}\n"
     ]
    }
   ],
   "source": [
    "rf_model = RandomForestClassifier()\n",
    "random_search = RandomizedSearchCV(estimator=rf_model, param_distributions=rf_params, n_iter=10, cv=5, scoring='accuracy', random_state=9)\n",
    "random_search.fit(X_train, y_train)\n",
    "\n",
    "# Get the best hyperparameters\n",
    "best_params = random_search.best_params_\n",
    "print(\"Best Hyperparameters:\", best_params)\n"
   ]
  },
  {
   "cell_type": "code",
   "execution_count": 12,
   "metadata": {},
   "outputs": [
    {
     "name": "stdout",
     "output_type": "stream",
     "text": [
      "              precision    recall  f1-score   support\n",
      "\n",
      "           0       0.81      0.86      0.83      1000\n",
      "           1       0.99      0.97      0.98      1000\n",
      "           2       0.81      0.81      0.81      1000\n",
      "           3       0.90      0.93      0.91      1000\n",
      "           4       0.81      0.86      0.83      1000\n",
      "           5       0.98      0.95      0.96      1000\n",
      "           6       0.74      0.63      0.68      1000\n",
      "           7       0.92      0.94      0.93      1000\n",
      "           8       0.96      0.98      0.97      1000\n",
      "           9       0.94      0.95      0.95      1000\n",
      "\n",
      "    accuracy                           0.89     10000\n",
      "   macro avg       0.89      0.89      0.89     10000\n",
      "weighted avg       0.89      0.89      0.89     10000\n",
      "\n"
     ]
    }
   ],
   "source": [
    "best_rf_model = RandomForestClassifier(**best_params)\n",
    "best_rf_model.fit(X_train, y_train)\n",
    "\n",
    "best_rf_predictions = best_rf_model.predict(X_test)\n",
    "print(classification_report(y_test, best_rf_predictions))"
   ]
  },
  {
   "cell_type": "markdown",
   "metadata": {},
   "source": [
    "One method"
   ]
  },
  {
   "cell_type": "code",
   "execution_count": 13,
   "metadata": {},
   "outputs": [
    {
     "data": {
      "image/png": "[encoded data removed]",
      "text/plain": [
       "<Figure size 1000x600 with 1 Axes>"
      ]
     },
     "metadata": {},
     "output_type": "display_data"
    }
   ],
   "source": [
    "\n",
    "learning_curve_model = RandomForestClassifier(**best_params)\n",
    "train_sizes, train_scores, test_scores = learning_curve(\n",
    "    learning_curve_model, X_train, y_train, cv=10, scoring='accuracy', train_sizes=[0.1, 0.3, 0.5, 0.7, 0.9], shuffle=True\n",
    ")\n",
    "\n",
    "train_mean = np.mean(train_scores, axis=1)\n",
    "train_std = np.std(train_scores, axis=1)\n",
    "test_mean = np.mean(test_scores, axis=1)\n",
    "test_std = np.std(test_scores, axis=1)\n",
    "\n",
    "plt.figure(figsize=(10, 6))\n",
    "plt.plot(train_sizes, train_mean, color='blue', marker='o', markersize=5, label='Training Accuracy')\n",
    "plt.fill_between(train_sizes, train_mean - train_std, train_mean + train_std, alpha=0.15, color='blue')\n",
    "plt.plot(train_sizes, test_mean, color='green', linestyle='--', marker='s', markersize=5, label='Validation Accuracy')\n",
    "plt.fill_between(train_sizes, test_mean - test_std, test_mean + test_std, alpha=0.15, color='green')\n",
    "\n",
    "plt.xlabel('Number of Training Samples')\n",
    "plt.ylabel('Accuracy')\n",
    "plt.title('Learning Curve')\n",
    "plt.legend(loc='lower right')\n",
    "plt.grid()\n",
    "plt.show()"
   ]
  }
 ],
 "metadata": {
  "kernelspec": {
   "display_name": "dtsc3.11",
   "language": "python",
   "name": "python3"
  },
  "language_info": {
   "codemirror_mode": {
    "name": "ipython",
    "version": 3
   },
   "file_extension": ".py",
   "mimetype": "text/x-python",
   "name": "python",
   "nbconvert_exporter": "python",
   "pygments_lexer": "ipython3",
   "version": "3.12.0"
  }
 },
 "nbformat": 4,
 "nbformat_minor": 2
}
